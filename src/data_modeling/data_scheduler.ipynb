{
  "cells": [
    {
      "cell_type": "code",
      "source": [
        "%load_ext lab_black"
      ],
      "outputs": [],
      "execution_count": 1,
      "metadata": {}
    },
    {
      "cell_type": "markdown",
      "source": [
        "Step: Load data"
      ],
      "metadata": {
        "nteract": {
          "transient": {
            "deleting": false
          }
        }
      }
    },
    {
      "cell_type": "code",
      "source": [
        "import pandas as pd\n",
        "import os\n",
        "from pyprojroot import here\n",
        "import numpy as np\n",
        "from skimpy import clean_columns\n",
        "from data_cleaning.fun_hot_encode_limit import fun_hot_encode_limit"
      ],
      "outputs": [],
      "execution_count": 2,
      "metadata": {
        "jupyter": {
          "source_hidden": false,
          "outputs_hidden": false
        },
        "nteract": {
          "transient": {
            "deleting": false
          }
        },
        "gather": {
          "logged": 1689881374119
        }
      }
    },
    {
      "cell_type": "markdown",
      "source": [
        "Add that teams have lines "
      ],
      "metadata": {
        "nteract": {
          "transient": {
            "deleting": false
          }
        }
      }
    },
    {
      "cell_type": "code",
      "source": [
        "import itertools\n",
        "import random\n",
        "from datetime import datetime, timedelta\n",
        "\n",
        "\n",
        "def generate_dates(start_date, end_date, day_of_week):\n",
        "    dates = []\n",
        "    start_date = datetime.strptime(start_date, \"%Y-%m-%d\")\n",
        "    end_date = datetime.strptime(end_date, \"%Y-%m-%d\")\n",
        "    total_days = (end_date - start_date).days + 1\n",
        "    for day_number in range(total_days):\n",
        "        current_day = start_date + timedelta(days=day_number)\n",
        "        if current_day.weekday() == day_of_week:\n",
        "            dates.append(current_day)\n",
        "    return dates\n",
        "\n",
        "\n",
        "def schedule_matches(\n",
        "    leagues,\n",
        "    league_days,\n",
        "    court_details,\n",
        "    start_date,\n",
        "    end_date,\n",
        "    weekday_times,\n",
        "    weekend_times,\n",
        "    matches_per_team,\n",
        "    court_type,\n",
        "):\n",
        "    schedules = {\n",
        "        league: list(itertools.combinations(teams, 2))\n",
        "        for league, teams in leagues.items()\n",
        "    }\n",
        "    for schedule in schedules.values():\n",
        "        random.shuffle(schedule)\n",
        "\n",
        "    weekday_times = [datetime.strptime(time, \"%I:%M %p\") for time in weekday_times]\n",
        "    weekend_times = [datetime.strptime(time, \"%I:%M %p\") for time in weekend_times]\n",
        "\n",
        "    league_dates = {league: [] for league in leagues}\n",
        "    for league, days_of_week in league_days.items():\n",
        "        for day_of_week in days_of_week:\n",
        "            league_dates[league].extend(\n",
        "                generate_dates(start_date, end_date, day_of_week)\n",
        "            )\n",
        "\n",
        "    court_slots = [\n",
        "        (location, list(court_numbers[i : i + court_type]))\n",
        "        for location, court_numbers in court_details.items()\n",
        "        for i in range(0, len(court_numbers), court_type)\n",
        "    ]\n",
        "\n",
        "    league_date_time_slots = {\n",
        "        league: [\n",
        "            datetime.combine(date, time.time())\n",
        "            if date.weekday() < 5\n",
        "            else datetime.combine(date, time.time())\n",
        "            for date in league_dates[league]\n",
        "            for time in (weekday_times if date.weekday() < 5 else weekend_times)\n",
        "        ]\n",
        "        for league in leagues\n",
        "    }\n",
        "\n",
        "    all_slots = {\n",
        "        league: list(itertools.product(date_time_slots, court_slots))\n",
        "        for league, date_time_slots in league_date_time_slots.items()\n",
        "    }\n",
        "    for slots in all_slots.values():\n",
        "        random.shuffle(slots)\n",
        "\n",
        "    matches = {league: [] for league in leagues}\n",
        "    team_counts = {\n",
        "        league: {team: 0 for team in teams} for league, teams in leagues.items()\n",
        "    }\n",
        "    occupied_courts = {}\n",
        "\n",
        "    while any(slots for slots in all_slots.values()) and any(\n",
        "        count < matches_per_team\n",
        "        for counts in team_counts.values()\n",
        "        for count in counts.values()\n",
        "    ):\n",
        "        for league, schedule in schedules.items():\n",
        "            for i in range(len(schedule)):\n",
        "                team1, team2 = schedule[i]\n",
        "                if (\n",
        "                    team_counts[league][team1] >= matches_per_team\n",
        "                    and team_counts[league][team2] >= matches_per_team\n",
        "                ):\n",
        "                    continue\n",
        "                for slot in all_slots[league]:\n",
        "                    date_time, (court_location, court_numbers) = slot\n",
        "                    court_key = (court_location, tuple(court_numbers))\n",
        "                    if court_key not in occupied_courts or occupied_courts[\n",
        "                        court_key\n",
        "                    ] <= date_time - timedelta(hours=1.5):\n",
        "                        match = {}\n",
        "                        match[\"team1\"], match[\"team2\"] = team1, team2\n",
        "                        match[\"date_time\"] = date_time\n",
        "                        match[\"court_location\"] = court_location\n",
        "                        match[\"court_numbers\"] = court_numbers\n",
        "                        occupied_courts[court_key] = date_time\n",
        "                        matches[league].append(match)\n",
        "                        all_slots[league].remove(slot)\n",
        "                        team_counts[league][team1] += 1\n",
        "                        team_counts[league][team2] += 1\n",
        "                        break\n",
        "\n",
        "    for matches_in_league in matches.values():\n",
        "        matches_in_league.sort(key=lambda x: x[\"date_time\"])\n",
        "\n",
        "    return matches\n",
        "\n",
        "\n",
        "leagues = {\n",
        "    \"Men's 4.0 Singles\": [\"Team A\", \"Team B\", \"Team C\", \"Team D\"],\n",
        "    \"Women's 4.0 Singles\": [\"Team E\", \"Team F\", \"Team G\", \"Team H\"],\n",
        "}\n",
        "league_days = {\n",
        "    \"Men's 4.0 Singles\": [1, 3],  # Tuesday, Thursday\n",
        "    \"Women's 4.0 Singles\": [5, 6],  # Saturday, Sunday\n",
        "}\n",
        "court_details = {\n",
        "    \"Elmira\": [1, 2, 3, 4, 5, 6],\n",
        "    \"Southern boundaries\": [3, 4, 5, 6, 7, 8],\n",
        "    \"Whipoorwill\": [6, 7, 8, 9, 10, 11],\n",
        "    \"Garrett\": [1, 2, 3, 4, 5, 6],\n",
        "    \"Rock Quarry\": [1, 2, 3, 4, 5, 6],\n",
        "}\n",
        "start_date = \"2023-08-01\"\n",
        "end_date = \"2023-09-30\"\n",
        "weekday_times = [\"6:30 PM\", \"8:00 PM\"]\n",
        "weekend_times = [\"9:00 AM\", \"11:00 AM\"]\n",
        "matches_per_team = 6\n",
        "court_type = 3\n",
        "\n",
        "matches = schedule_matches(\n",
        "    leagues,\n",
        "    league_days,\n",
        "    court_details,\n",
        "    start_date,\n",
        "    end_date,\n",
        "    weekday_times,\n",
        "    weekend_times,\n",
        "    matches_per_team,\n",
        "    court_type,\n",
        ")\n",
        "for league, matches_in_league in matches.items():\n",
        "    print(f\"{league} Matches:\")\n",
        "    for match in matches_in_league:\n",
        "        print(\n",
        "            f\"{match['team1']} vs {match['team2']} at {match['court_location']} Courts {', '.join(str(x) for x in match['court_numbers'])} on {match['date_time'].strftime('%Y-%m-%d %I:%M %p')}\"\n",
        "        )"
      ],
      "outputs": [
        {
          "output_type": "stream",
          "name": "stdout",
          "text": "Men's 4.0 Singles Matches:\nTeam B vs Team C at Whipoorwill Courts 9, 10, 11 on 2023-08-01 08:00 PM\nTeam C vs Team D at Whipoorwill Courts 6, 7, 8 on 2023-08-10 06:30 PM\nTeam A vs Team B at Southern boundaries Courts 3, 4, 5 on 2023-08-22 06:30 PM\nTeam B vs Team C at Rock Quarry Courts 4, 5, 6 on 2023-09-05 06:30 PM\nTeam B vs Team D at Southern boundaries Courts 6, 7, 8 on 2023-09-12 06:30 PM\nTeam B vs Team D at Elmira Courts 1, 2, 3 on 2023-09-12 06:30 PM\nTeam A vs Team C at Southern boundaries Courts 3, 4, 5 on 2023-09-14 06:30 PM\nTeam A vs Team D at Southern boundaries Courts 6, 7, 8 on 2023-09-21 08:00 PM\nTeam C vs Team D at Whipoorwill Courts 9, 10, 11 on 2023-09-26 06:30 PM\nTeam A vs Team C at Rock Quarry Courts 1, 2, 3 on 2023-09-28 06:30 PM\nTeam A vs Team D at Elmira Courts 4, 5, 6 on 2023-09-28 06:30 PM\nTeam A vs Team B at Southern boundaries Courts 6, 7, 8 on 2023-09-28 06:30 PM\nWomen's 4.0 Singles Matches:\nTeam F vs Team H at Whipoorwill Courts 9, 10, 11 on 2023-09-02 09:00 AM\nTeam F vs Team G at Garrett Courts 1, 2, 3 on 2023-09-03 11:00 AM\nTeam E vs Team H at Southern boundaries Courts 3, 4, 5 on 2023-09-09 11:00 AM\nTeam G vs Team H at Rock Quarry Courts 4, 5, 6 on 2023-09-09 11:00 AM\nTeam G vs Team H at Garrett Courts 4, 5, 6 on 2023-09-16 11:00 AM\nTeam F vs Team G at Southern boundaries Courts 3, 4, 5 on 2023-09-17 09:00 AM\nTeam E vs Team F at Garrett Courts 1, 2, 3 on 2023-09-23 09:00 AM\nTeam F vs Team H at Garrett Courts 1, 2, 3 on 2023-09-24 09:00 AM\nTeam E vs Team H at Southern boundaries Courts 3, 4, 5 on 2023-09-24 11:00 AM\nTeam E vs Team G at Southern boundaries Courts 3, 4, 5 on 2023-09-30 09:00 AM\nTeam E vs Team G at Whipoorwill Courts 6, 7, 8 on 2023-09-30 11:00 AM\nTeam E vs Team F at Elmira Courts 1, 2, 3 on 2023-09-30 11:00 AM\n"
        }
      ],
      "execution_count": 7,
      "metadata": {
        "jupyter": {
          "source_hidden": false,
          "outputs_hidden": false
        },
        "nteract": {
          "transient": {
            "deleting": false
          }
        },
        "gather": {
          "logged": 1689883665584
        }
      }
    }
  ],
  "metadata": {
    "kernelspec": {
      "name": "python38-azureml",
      "language": "python",
      "display_name": "Python 3.8 - AzureML"
    },
    "language_info": {
      "name": "python",
      "version": "3.8.5",
      "mimetype": "text/x-python",
      "codemirror_mode": {
        "name": "ipython",
        "version": 3
      },
      "pygments_lexer": "ipython3",
      "nbconvert_exporter": "python",
      "file_extension": ".py"
    },
    "microsoft": {
      "ms_spell_check": {
        "ms_spell_check_language": "en"
      },
      "host": {
        "AzureML": {
          "notebookHasBeenCompleted": true
        }
      }
    },
    "kernel_info": {
      "name": "python38-azureml"
    },
    "nteract": {
      "version": "nteract-front-end@1.0.0"
    }
  },
  "nbformat": 4,
  "nbformat_minor": 2
}