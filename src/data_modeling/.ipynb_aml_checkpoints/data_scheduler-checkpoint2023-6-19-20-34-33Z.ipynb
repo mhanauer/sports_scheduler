{
  "cells": [
    {
      "cell_type": "code",
      "source": [
        "%load_ext lab_black"
      ],
      "outputs": [
        {
          "output_type": "stream",
          "name": "stdout",
          "text": "The lab_black extension is already loaded. To reload it, use:\n  %reload_ext lab_black\n"
        }
      ],
      "execution_count": 10,
      "metadata": {}
    },
    {
      "cell_type": "markdown",
      "source": [
        "Step: Load data"
      ],
      "metadata": {
        "nteract": {
          "transient": {
            "deleting": false
          }
        }
      }
    },
    {
      "cell_type": "code",
      "source": [
        "import pandas as pd\n",
        "import os\n",
        "from pyprojroot import here\n",
        "import numpy as np\n",
        "from skimpy import clean_columns\n",
        "from data_cleaning.fun_hot_encode_limit import fun_hot_encode_limit\n",
        "from draft_kings import Sport, Client\n"
      ],
      "outputs": [],
      "execution_count": 6,
      "metadata": {
        "jupyter": {
          "source_hidden": false,
          "outputs_hidden": false
        },
        "nteract": {
          "transient": {
            "deleting": false
          }
        },
        "gather": {
          "logged": 1682594335377
        }
      }
    },
    {
      "cell_type": "code",
      "source": [
        "data_nfl =  Client().contests(sport=Sport.NFL)"
      ],
      "outputs": [],
      "execution_count": 11,
      "metadata": {
        "jupyter": {
          "source_hidden": false,
          "outputs_hidden": false
        },
        "nteract": {
          "transient": {
            "deleting": false
          }
        },
        "gather": {
          "logged": 1682595440259
        }
      }
    },
    {
      "cell_type": "code",
      "source": [
        "data_players_draft_group = Client().available_players(draft_group_id=41793)"
      ],
      "outputs": [],
      "execution_count": 20,
      "metadata": {
        "jupyter": {
          "source_hidden": false,
          "outputs_hidden": false
        },
        "nteract": {
          "transient": {
            "deleting": false
          }
        },
        "gather": {
          "logged": 1682596088440
        }
      }
    },
    {
      "cell_type": "code",
      "source": [
        "data_player_info = Client().draftables(draft_group_id=41793)"
      ],
      "outputs": [],
      "execution_count": 33,
      "metadata": {
        "jupyter": {
          "source_hidden": false,
          "outputs_hidden": false
        },
        "nteract": {
          "transient": {
            "deleting": false
          }
        },
        "gather": {
          "logged": 1682596445702
        }
      }
    },
    {
      "cell_type": "code",
      "source": [
        "data_player_info.competitions[0]"
      ],
      "outputs": [
        {
          "output_type": "execute_result",
          "execution_count": 35,
          "data": {
            "text/plain": "CompetitionDetails(are_depth_charts_available=True, are_starting_lineups_available=False, away_team=CompetitionTeamDetails(abbreviation='HOU', city='Houston', name='Texans', team_id=325), competition_id=5673406, home_team=CompetitionTeamDetails(abbreviation='DET', city='Detroit', name='Lions', team_id=334), name='HOU @ DET', sport=<Sport.NFL: 'NFL'>, starts_at=datetime.datetime(2020, 11, 26, 17, 30, tzinfo=datetime.timezone.utc), state_description='ScoresOfficial', venue='Ford Field', weather=CompetitionWeatherDetails(description='cloudy', is_in_a_dome=True))"
          },
          "metadata": {}
        }
      ],
      "execution_count": 35,
      "metadata": {
        "jupyter": {
          "source_hidden": false,
          "outputs_hidden": false
        },
        "nteract": {
          "transient": {
            "deleting": false
          }
        },
        "gather": {
          "logged": 1682596456248
        }
      }
    },
    {
      "cell_type": "code",
      "source": [
        "data_players_draft_group.players[0]"
      ],
      "outputs": [
        {
          "output_type": "execute_result",
          "execution_count": 28,
          "data": {
            "text/plain": "PlayerDetails(draft_details=DraftDetails(is_draftable=True, salary=7400.0, starts_at=None), exceptional_messages=[], first_name='Deshaun', jersey_number=4, last_name='Watson', player_id=828743, points_per_game=0.0, position_details=PositionDetails(name='QB', position_id=1), team_id=325, team_series_details=PlayerTeamSeriesDetails(away_team_id=325, home_team_id=334, opposition_rank=0, team_series_id=5673406))"
          },
          "metadata": {}
        }
      ],
      "execution_count": 28,
      "metadata": {
        "jupyter": {
          "source_hidden": false,
          "outputs_hidden": false
        },
        "nteract": {
          "transient": {
            "deleting": false
          }
        },
        "gather": {
          "logged": 1682596200875
        }
      }
    },
    {
      "cell_type": "code",
      "source": [
        "import pandas as pd\n",
        "\n",
        "data = []\n",
        "\n",
        "for player in data_players_draft_group.players:\n",
        "    data.append({\n",
        "        'is_draftable': player.draft_details.is_draftable,\n",
        "        'salary': player.draft_details.salary,\n",
        "        'starts_at': player.draft_details.starts_at,\n",
        "        'exceptional_messages': player.exceptional_messages,\n",
        "        'first_name': player.first_name,\n",
        "        'jersey_number': player.jersey_number,\n",
        "        'last_name': player.last_name,\n",
        "        'player_id': player.player_id,\n",
        "        'points_per_game': player.points_per_game,\n",
        "        'position_name': player.position_details.name,\n",
        "        'position_id': player.position_details.position_id,\n",
        "        'team_id': player.team_id,\n",
        "        'away_team_id': player.team_series_details.away_team_id,\n",
        "        'home_team_id': player.team_series_details.home_team_id,\n",
        "        'opposition_rank': player.team_series_details.opposition_rank,\n",
        "        'team_series_id': player.team_series_details.team_series_id,\n",
        "    })\n",
        "\n",
        "df = pd.DataFrame(data)\n"
      ],
      "outputs": [],
      "execution_count": 29,
      "metadata": {
        "jupyter": {
          "source_hidden": false,
          "outputs_hidden": false
        },
        "nteract": {
          "transient": {
            "deleting": false
          }
        },
        "gather": {
          "logged": 1682596319410
        }
      }
    },
    {
      "cell_type": "code",
      "source": [
        "df"
      ],
      "outputs": [
        {
          "output_type": "execute_result",
          "execution_count": 32,
          "data": {
            "text/plain": "     is_draftable  salary starts_at  \\\n0            True  7400.0      None   \n1            True  7000.0      None   \n2            True  6800.0      None   \n3           False  6800.0      None   \n4           False  6600.0      None   \n..            ...     ...       ...   \n114         False  2500.0      None   \n115         False  2500.0      None   \n116         False  2500.0      None   \n117         False  2500.0      None   \n118          True  2200.0      None   \n\n                                  exceptional_messages first_name  \\\n0                                                   []    Deshaun   \n1                                                   []      Terry   \n2                                                   []    Ezekiel   \n3    [ExceptionalMessageDetails(message='The Ravens...      Lamar   \n4    [ExceptionalMessageDetails(message='The Ravens...        Ben   \n..                                                 ...        ...   \n114  [ExceptionalMessageDetails(message='The Ravens...       Luke   \n115  [ExceptionalMessageDetails(message='The Ravens...       Nick   \n116  [ExceptionalMessageDetails(message='The Ravens...       Zach   \n117  [ExceptionalMessageDetails(message='The Ravens...      Vance   \n118                                                 []      Lions   \n\n     jersey_number       last_name  player_id  points_per_game position_name  \\\n0                4          Watson     828743              0.0            QB   \n1               17        McLaurin     836116              0.0            WR   \n2               21         Elliott     728338              0.0            RB   \n3                8         Jackson     877745              0.0            QB   \n4                7  Roethlisberger     246061              0.0            QB   \n..             ...             ...        ...              ...           ...   \n114             82         Willson     466869              0.0            TE   \n115             86           Boyle     608753              0.0            TE   \n116             81          Gentry     883079              0.0            TE   \n117             89        McDonald     494969              0.0            TE   \n118              0                        334              0.0           DST   \n\n     position_id  team_id  away_team_id  home_team_id  opposition_rank  \\\n0              1      325           325           334                0   \n1              3      363           363           331                0   \n2              2      331           363           331                0   \n3              1      366           366           356                0   \n4              1      356           366           356                0   \n..           ...      ...           ...           ...              ...   \n114            4      366           366           356                0   \n115            4      366           366           356                0   \n116            4      356           366           356                0   \n117            4      356           366           356                0   \n118           36      334           325           334                0   \n\n     team_series_id  \n0           5673406  \n1           5673928  \n2           5673928  \n3           5674018  \n4           5674018  \n..              ...  \n114         5674018  \n115         5674018  \n116         5674018  \n117         5674018  \n118         5673406  \n\n[119 rows x 16 columns]",
            "text/html": "<div>\n<style scoped>\n    .dataframe tbody tr th:only-of-type {\n        vertical-align: middle;\n    }\n\n    .dataframe tbody tr th {\n        vertical-align: top;\n    }\n\n    .dataframe thead th {\n        text-align: right;\n    }\n</style>\n<table border=\"1\" class=\"dataframe\">\n  <thead>\n    <tr style=\"text-align: right;\">\n      <th></th>\n      <th>is_draftable</th>\n      <th>salary</th>\n      <th>starts_at</th>\n      <th>exceptional_messages</th>\n      <th>first_name</th>\n      <th>jersey_number</th>\n      <th>last_name</th>\n      <th>player_id</th>\n      <th>points_per_game</th>\n      <th>position_name</th>\n      <th>position_id</th>\n      <th>team_id</th>\n      <th>away_team_id</th>\n      <th>home_team_id</th>\n      <th>opposition_rank</th>\n      <th>team_series_id</th>\n    </tr>\n  </thead>\n  <tbody>\n    <tr>\n      <th>0</th>\n      <td>True</td>\n      <td>7400.0</td>\n      <td>None</td>\n      <td>[]</td>\n      <td>Deshaun</td>\n      <td>4</td>\n      <td>Watson</td>\n      <td>828743</td>\n      <td>0.0</td>\n      <td>QB</td>\n      <td>1</td>\n      <td>325</td>\n      <td>325</td>\n      <td>334</td>\n      <td>0</td>\n      <td>5673406</td>\n    </tr>\n    <tr>\n      <th>1</th>\n      <td>True</td>\n      <td>7000.0</td>\n      <td>None</td>\n      <td>[]</td>\n      <td>Terry</td>\n      <td>17</td>\n      <td>McLaurin</td>\n      <td>836116</td>\n      <td>0.0</td>\n      <td>WR</td>\n      <td>3</td>\n      <td>363</td>\n      <td>363</td>\n      <td>331</td>\n      <td>0</td>\n      <td>5673928</td>\n    </tr>\n    <tr>\n      <th>2</th>\n      <td>True</td>\n      <td>6800.0</td>\n      <td>None</td>\n      <td>[]</td>\n      <td>Ezekiel</td>\n      <td>21</td>\n      <td>Elliott</td>\n      <td>728338</td>\n      <td>0.0</td>\n      <td>RB</td>\n      <td>2</td>\n      <td>331</td>\n      <td>363</td>\n      <td>331</td>\n      <td>0</td>\n      <td>5673928</td>\n    </tr>\n    <tr>\n      <th>3</th>\n      <td>False</td>\n      <td>6800.0</td>\n      <td>None</td>\n      <td>[ExceptionalMessageDetails(message='The Ravens...</td>\n      <td>Lamar</td>\n      <td>8</td>\n      <td>Jackson</td>\n      <td>877745</td>\n      <td>0.0</td>\n      <td>QB</td>\n      <td>1</td>\n      <td>366</td>\n      <td>366</td>\n      <td>356</td>\n      <td>0</td>\n      <td>5674018</td>\n    </tr>\n    <tr>\n      <th>4</th>\n      <td>False</td>\n      <td>6600.0</td>\n      <td>None</td>\n      <td>[ExceptionalMessageDetails(message='The Ravens...</td>\n      <td>Ben</td>\n      <td>7</td>\n      <td>Roethlisberger</td>\n      <td>246061</td>\n      <td>0.0</td>\n      <td>QB</td>\n      <td>1</td>\n      <td>356</td>\n      <td>366</td>\n      <td>356</td>\n      <td>0</td>\n      <td>5674018</td>\n    </tr>\n    <tr>\n      <th>...</th>\n      <td>...</td>\n      <td>...</td>\n      <td>...</td>\n      <td>...</td>\n      <td>...</td>\n      <td>...</td>\n      <td>...</td>\n      <td>...</td>\n      <td>...</td>\n      <td>...</td>\n      <td>...</td>\n      <td>...</td>\n      <td>...</td>\n      <td>...</td>\n      <td>...</td>\n      <td>...</td>\n    </tr>\n    <tr>\n      <th>114</th>\n      <td>False</td>\n      <td>2500.0</td>\n      <td>None</td>\n      <td>[ExceptionalMessageDetails(message='The Ravens...</td>\n      <td>Luke</td>\n      <td>82</td>\n      <td>Willson</td>\n      <td>466869</td>\n      <td>0.0</td>\n      <td>TE</td>\n      <td>4</td>\n      <td>366</td>\n      <td>366</td>\n      <td>356</td>\n      <td>0</td>\n      <td>5674018</td>\n    </tr>\n    <tr>\n      <th>115</th>\n      <td>False</td>\n      <td>2500.0</td>\n      <td>None</td>\n      <td>[ExceptionalMessageDetails(message='The Ravens...</td>\n      <td>Nick</td>\n      <td>86</td>\n      <td>Boyle</td>\n      <td>608753</td>\n      <td>0.0</td>\n      <td>TE</td>\n      <td>4</td>\n      <td>366</td>\n      <td>366</td>\n      <td>356</td>\n      <td>0</td>\n      <td>5674018</td>\n    </tr>\n    <tr>\n      <th>116</th>\n      <td>False</td>\n      <td>2500.0</td>\n      <td>None</td>\n      <td>[ExceptionalMessageDetails(message='The Ravens...</td>\n      <td>Zach</td>\n      <td>81</td>\n      <td>Gentry</td>\n      <td>883079</td>\n      <td>0.0</td>\n      <td>TE</td>\n      <td>4</td>\n      <td>356</td>\n      <td>366</td>\n      <td>356</td>\n      <td>0</td>\n      <td>5674018</td>\n    </tr>\n    <tr>\n      <th>117</th>\n      <td>False</td>\n      <td>2500.0</td>\n      <td>None</td>\n      <td>[ExceptionalMessageDetails(message='The Ravens...</td>\n      <td>Vance</td>\n      <td>89</td>\n      <td>McDonald</td>\n      <td>494969</td>\n      <td>0.0</td>\n      <td>TE</td>\n      <td>4</td>\n      <td>356</td>\n      <td>366</td>\n      <td>356</td>\n      <td>0</td>\n      <td>5674018</td>\n    </tr>\n    <tr>\n      <th>118</th>\n      <td>True</td>\n      <td>2200.0</td>\n      <td>None</td>\n      <td>[]</td>\n      <td>Lions</td>\n      <td>0</td>\n      <td></td>\n      <td>334</td>\n      <td>0.0</td>\n      <td>DST</td>\n      <td>36</td>\n      <td>334</td>\n      <td>325</td>\n      <td>334</td>\n      <td>0</td>\n      <td>5673406</td>\n    </tr>\n  </tbody>\n</table>\n<p>119 rows × 16 columns</p>\n</div>"
          },
          "metadata": {}
        }
      ],
      "execution_count": 32,
      "metadata": {
        "jupyter": {
          "source_hidden": false,
          "outputs_hidden": false
        },
        "nteract": {
          "transient": {
            "deleting": false
          }
        },
        "gather": {
          "logged": 1682596380091
        }
      }
    },
    {
      "cell_type": "markdown",
      "source": [
        "Step: Change % to actual number"
      ],
      "metadata": {
        "nteract": {
          "transient": {
            "deleting": false
          }
        }
      }
    }
  ],
  "metadata": {
    "kernelspec": {
      "name": "python38-azureml",
      "language": "python",
      "display_name": "Python 3.8 - AzureML"
    },
    "language_info": {
      "name": "python",
      "version": "3.8.10",
      "mimetype": "text/x-python",
      "codemirror_mode": {
        "name": "ipython",
        "version": 3
      },
      "pygments_lexer": "ipython3",
      "nbconvert_exporter": "python",
      "file_extension": ".py"
    },
    "microsoft": {
      "ms_spell_check": {
        "ms_spell_check_language": "en"
      },
      "host": {
        "AzureML": {
          "notebookHasBeenCompleted": true
        }
      }
    },
    "kernel_info": {
      "name": "python38-azureml"
    },
    "nteract": {
      "version": "nteract-front-end@1.0.0"
    }
  },
  "nbformat": 4,
  "nbformat_minor": 2
}