{
  "cells": [
    {
      "cell_type": "code",
      "source": [
        "%load_ext lab_black"
      ],
      "outputs": [],
      "execution_count": null,
      "metadata": {}
    },
    {
      "cell_type": "markdown",
      "source": [
        "Step: Load data"
      ],
      "metadata": {
        "nteract": {
          "transient": {
            "deleting": false
          }
        }
      }
    },
    {
      "cell_type": "code",
      "source": [
        "import pandas as pd\n",
        "import os\n",
        "from pyprojroot import here\n",
        "import numpy as np\n",
        "from skimpy import clean_columns\n",
        "from data_cleaning.fun_hot_encode_limit import fun_hot_encode_limit\n"
      ],
      "outputs": [],
      "execution_count": 2,
      "metadata": {
        "jupyter": {
          "source_hidden": false,
          "outputs_hidden": false
        },
        "nteract": {
          "transient": {
            "deleting": false
          }
        },
        "gather": {
          "logged": 1689798892794
        }
      }
    },
    {
      "cell_type": "markdown",
      "source": [
        "Add that teams have lines "
      ],
      "metadata": {
        "nteract": {
          "transient": {
            "deleting": false
          }
        }
      }
    },
    {
      "cell_type": "code",
      "source": [
        "import itertools\n",
        "import random\n",
        "from datetime import datetime, timedelta\n",
        "\n",
        "def generate_dates(start_date, end_date, day_of_week):\n",
        "    dates = []\n",
        "    start_date = datetime.strptime(start_date, \"%Y-%m-%d\")\n",
        "    end_date = datetime.strptime(end_date, \"%Y-%m-%d\")\n",
        "    total_days = (end_date - start_date).days + 1\n",
        "    for day_number in range(total_days):\n",
        "        current_day = start_date + timedelta(days=day_number)\n",
        "        if current_day.weekday() == day_of_week:\n",
        "            dates.append(current_day)\n",
        "    return dates\n",
        "\n",
        "def schedule_matches(leagues, court_details, start_date, end_date, days_of_week, times, num_matches, preferred_court=None):\n",
        "    schedules = {league: list(itertools.combinations(teams, 2)) for league, teams in leagues.items()}\n",
        "    for schedule in schedules.values():\n",
        "        random.shuffle(schedule)\n",
        "\n",
        "    parsed_times = [datetime.strptime(time, \"%I:%M %p\") for time in times]\n",
        "    \n",
        "    dates = []\n",
        "    for day_of_week in days_of_week:\n",
        "        dates.extend(generate_dates(start_date, end_date, day_of_week))\n",
        "    \n",
        "    court_slots = [(location, court_number) for location, court_numbers in court_details.items() for court_number in court_numbers]\n",
        "    date_time_slots = [datetime.combine(date, time.time()) for date in dates for time in parsed_times]\n",
        "    \n",
        "    all_slots = list(itertools.product(date_time_slots, court_slots))\n",
        "    random.shuffle(all_slots)\n",
        "\n",
        "    matches = {league: [] for league in leagues}\n",
        "    occupied_courts = {}\n",
        "    for league, schedule in schedules.items():\n",
        "        for i in range(len(schedule)):\n",
        "            if len(matches[league]) >= num_matches:\n",
        "                break\n",
        "            for slot in all_slots:\n",
        "                date_time, (court_location, court_number) = slot\n",
        "                court_key = (court_location, court_number)\n",
        "                if court_key not in occupied_courts or occupied_courts[court_key] <= date_time - timedelta(hours=1.5):\n",
        "                    if preferred_court and court_location != preferred_court:\n",
        "                        continue\n",
        "                    match = {}\n",
        "                    match['team1'], match['team2'] = schedule[i]\n",
        "                    match['date_time'] = date_time\n",
        "                    match['court_location'] = court_location\n",
        "                    match['court_number'] = court_number\n",
        "                    occupied_courts[court_key] = date_time\n",
        "                    matches[league].append(match)\n",
        "                    all_slots.remove(slot)\n",
        "                    break\n",
        "    \n",
        "    for matches_in_league in matches.values():\n",
        "        matches_in_league.sort(key=lambda x: x['date_time'])\n",
        "    \n",
        "    return matches\n",
        "\n",
        "leagues = {\n",
        "    \"Men's 4.0 Singles\": [\"Team A\", \"Team B\", \"Team C\", \"Team D\"],\n",
        "    \"Women's 4.0 Singles\": [\"Team E\", \"Team F\", \"Team G\", \"Team H\"]\n",
        "}\n",
        "court_details = {\n",
        "    'Elmira': [1,2,3,4],\n",
        "    'Southern boundaries': [3,4,5],\n",
        "    'Whipoorwill': [6,7,8],\n",
        "    'Garrett': [1,2,3,4],\n",
        "    'Rock Quarry': [1,2,4]\n",
        "}\n",
        "start_date = \"2023-08-01\"\n",
        "end_date = \"2023-09-30\"\n",
        "days_of_week = [1, 3] # Tuesday and Thursday\n",
        "times = [\"6:30 PM\", \"7:30 PM\", \"8:30 PM\"]\n",
        "num_matches = 6\n",
        "preferred_court = \"Elmira\"\n",
        "\n",
        "matches = schedule_matches(leagues, court_details, start_date, end_date, days_of_week, times, num_matches, preferred_court)\n",
        "for league, matches_in_league in matches.items():\n",
        "    print(f\"{league} Matches:\")\n",
        "    for match in matches_in_league:\n",
        "        print(f\"{match['team1']} vs {match['team2']} at {match['court_location']} Court {match['court_number']} on {match['date_time'].strftime('%Y-%m-%d %I:%M %p')}\")\n"
      ],
      "outputs": [
        {
          "output_type": "stream",
          "name": "stdout",
          "text": "Men's 4.0 Singles Matches:\nTeam B vs Team C at Elmira Court 4 on 2023-08-17 07:30 PM\nTeam B vs Team D at Elmira Court 3 on 2023-08-17 08:30 PM\nTeam C vs Team D at Elmira Court 3 on 2023-09-05 07:30 PM\nTeam A vs Team D at Elmira Court 2 on 2023-09-05 08:30 PM\nTeam A vs Team C at Elmira Court 1 on 2023-09-14 07:30 PM\nTeam A vs Team B at Elmira Court 4 on 2023-09-26 08:30 PM\nWomen's 4.0 Singles Matches:\nTeam E vs Team H at Elmira Court 2 on 2023-09-14 06:30 PM\nTeam F vs Team G at Elmira Court 1 on 2023-09-19 08:30 PM\nTeam E vs Team G at Elmira Court 3 on 2023-09-26 06:30 PM\nTeam E vs Team F at Elmira Court 3 on 2023-09-26 08:30 PM\nTeam G vs Team H at Elmira Court 4 on 2023-09-28 06:30 PM\nTeam F vs Team H at Elmira Court 3 on 2023-09-28 06:30 PM\n"
        }
      ],
      "execution_count": 12,
      "metadata": {
        "jupyter": {
          "source_hidden": false,
          "outputs_hidden": false
        },
        "nteract": {
          "transient": {
            "deleting": false
          }
        },
        "gather": {
          "logged": 1689800260958
        }
      }
    }
  ],
  "metadata": {
    "kernelspec": {
      "name": "python38-azureml",
      "language": "python",
      "display_name": "Python 3.8 - AzureML"
    },
    "language_info": {
      "name": "python",
      "version": "3.8.5",
      "mimetype": "text/x-python",
      "codemirror_mode": {
        "name": "ipython",
        "version": 3
      },
      "pygments_lexer": "ipython3",
      "nbconvert_exporter": "python",
      "file_extension": ".py"
    },
    "microsoft": {
      "ms_spell_check": {
        "ms_spell_check_language": "en"
      },
      "host": {
        "AzureML": {
          "notebookHasBeenCompleted": true
        }
      }
    },
    "kernel_info": {
      "name": "python38-azureml"
    },
    "nteract": {
      "version": "nteract-front-end@1.0.0"
    }
  },
  "nbformat": 4,
  "nbformat_minor": 2
}